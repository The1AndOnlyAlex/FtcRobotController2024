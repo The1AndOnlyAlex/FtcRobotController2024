{
 "cells": [
  {
   "cell_type": "code",
   "execution_count": 2,
   "id": "f330de2f-6754-4fff-94b7-7aed8055b40f",
   "metadata": {},
   "outputs": [
    {
     "data": {
      "text/html": [
       "\n",
       "        <iframe\n",
       "            width=\"100%\"\n",
       "            height=\"650\"\n",
       "            src=\"http://127.0.0.1:8050/\"\n",
       "            frameborder=\"0\"\n",
       "            allowfullscreen\n",
       "            \n",
       "        ></iframe>\n",
       "        "
      ],
      "text/plain": [
       "<IPython.lib.display.IFrame at 0x10ad767b0>"
      ]
     },
     "metadata": {},
     "output_type": "display_data"
    },
    {
     "name": "stdout",
     "output_type": "stream",
     "text": [
      "Attempting to connect to robot server at 192.168.43.1:12345...\n",
      "Attempting to connect to robot server at 192.168.43.1:12345...\n",
      "Attempting to connect to robot server at 192.168.43.1:12345...\n",
      "Attempting to connect to robot server at 192.168.43.1:12345...\n"
     ]
    }
   ],
   "source": [
    "%run ftcfrc_dash_app_realtime.py"
   ]
  },
  {
   "cell_type": "code",
   "execution_count": null,
   "id": "407d1a08-526d-4f21-8265-a6299c7489b3",
   "metadata": {},
   "outputs": [],
   "source": []
  }
 ],
 "metadata": {
  "kernelspec": {
   "display_name": "Python 3 (ipykernel)",
   "language": "python",
   "name": "python3"
  },
  "language_info": {
   "codemirror_mode": {
    "name": "ipython",
    "version": 3
   },
   "file_extension": ".py",
   "mimetype": "text/x-python",
   "name": "python",
   "nbconvert_exporter": "python",
   "pygments_lexer": "ipython3",
   "version": "3.12.8"
  }
 },
 "nbformat": 4,
 "nbformat_minor": 5
}
