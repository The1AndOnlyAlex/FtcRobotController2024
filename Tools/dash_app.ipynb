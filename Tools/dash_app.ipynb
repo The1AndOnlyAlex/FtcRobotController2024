{
 "cells": [
  {
   "cell_type": "code",
   "execution_count": 1,
   "id": "f330de2f-6754-4fff-94b7-7aed8055b40f",
   "metadata": {},
   "outputs": [
    {
     "data": {
      "text/html": [
       "\n",
       "        <iframe\n",
       "            width=\"100%\"\n",
       "            height=\"650\"\n",
       "            src=\"http://127.0.0.1:8050/\"\n",
       "            frameborder=\"0\"\n",
       "            allowfullscreen\n",
       "            \n",
       "        ></iframe>\n",
       "        "
      ],
      "text/plain": [
       "<IPython.lib.display.IFrame at 0x29519eab1d0>"
      ]
     },
     "metadata": {},
     "output_type": "display_data"
    },
    {
     "name": "stdout",
     "output_type": "stream",
     "text": [
      "Attempting to connect to robot server at 192.168.43.1:12345...\n"
     ]
    },
    {
     "name": "stderr",
     "output_type": "stream",
     "text": [
      "Exception in thread Thread-20 (connect_to_ftc_robot):\n",
      "Traceback (most recent call last):\n",
      "  File \"C:\\Program Files\\WindowsApps\\PythonSoftwareFoundation.Python.3.11_3.11.2544.0_x64__qbz5n2kfra8p0\\Lib\\threading.py\", line 1045, in _bootstrap_inner\n",
      "    self.run()\n",
      "  File \"C:\\Users\\jim.duan\\AppData\\Local\\Packages\\PythonSoftwareFoundation.Python.3.11_qbz5n2kfra8p0\\LocalCache\\local-packages\\Python311\\site-packages\\ipykernel\\ipkernel.py\", line 766, in run_closure\n",
      "    _threading_Thread_run(self)\n",
      "  File \"C:\\Program Files\\WindowsApps\\PythonSoftwareFoundation.Python.3.11_3.11.2544.0_x64__qbz5n2kfra8p0\\Lib\\threading.py\", line 982, in run\n",
      "    self._target(*self._args, **self._kwargs)\n",
      "  File \"C:\\Users\\jim.duan\\Documents\\GitHub\\FtcRobotControllerSummer2024\\Tools\\ftcfrc_dash_app_realtime.py\", line 123, in connect_to_ftc_robot\n",
      "    raise e\n",
      "  File \"C:\\Users\\jim.duan\\Documents\\GitHub\\FtcRobotControllerSummer2024\\Tools\\ftcfrc_dash_app_realtime.py\", line 68, in connect_to_ftc_robot\n",
      "    s.connect((HOST, PORT))  # This will throw an exception if it fails\n",
      "    ^^^^^^^^^^^^^^^^^^^^^^^\n",
      "ConnectionRefusedError: [WinError 10061] No connection could be made because the target machine actively refused it\n"
     ]
    },
    {
     "name": "stdout",
     "output_type": "stream",
     "text": [
      "Connection to the robot server at 192.168.43.1:12345 failed.\n",
      "Attempting to connect to robot server at 192.168.43.1:12345...\n"
     ]
    },
    {
     "name": "stderr",
     "output_type": "stream",
     "text": [
      "Exception in thread Thread-22 (connect_to_ftc_robot):\n",
      "Traceback (most recent call last):\n",
      "  File \"C:\\Program Files\\WindowsApps\\PythonSoftwareFoundation.Python.3.11_3.11.2544.0_x64__qbz5n2kfra8p0\\Lib\\threading.py\", line 1045, in _bootstrap_inner\n",
      "    self.run()\n",
      "  File \"C:\\Users\\jim.duan\\AppData\\Local\\Packages\\PythonSoftwareFoundation.Python.3.11_qbz5n2kfra8p0\\LocalCache\\local-packages\\Python311\\site-packages\\ipykernel\\ipkernel.py\", line 766, in run_closure\n",
      "    _threading_Thread_run(self)\n",
      "  File \"C:\\Program Files\\WindowsApps\\PythonSoftwareFoundation.Python.3.11_3.11.2544.0_x64__qbz5n2kfra8p0\\Lib\\threading.py\", line 982, in run\n",
      "    self._target(*self._args, **self._kwargs)\n",
      "  File \"C:\\Users\\jim.duan\\Documents\\GitHub\\FtcRobotControllerSummer2024\\Tools\\ftcfrc_dash_app_realtime.py\", line 123, in connect_to_ftc_robot\n",
      "    raise e\n",
      "  File \"C:\\Users\\jim.duan\\Documents\\GitHub\\FtcRobotControllerSummer2024\\Tools\\ftcfrc_dash_app_realtime.py\", line 68, in connect_to_ftc_robot\n",
      "    s.connect((HOST, PORT))  # This will throw an exception if it fails\n",
      "    ^^^^^^^^^^^^^^^^^^^^^^^\n",
      "ConnectionRefusedError: [WinError 10061] No connection could be made because the target machine actively refused it\n"
     ]
    },
    {
     "name": "stdout",
     "output_type": "stream",
     "text": [
      "Connection to the robot server at 192.168.43.1:12345 failed.\n",
      "Attempting to connect to robot server at 192.168.43.1:12345...\n",
      "Connected to robot server at 192.168.43.1:12345\n",
      "Disconnected.\n",
      "HTML file generated: 20240922_162249.html\n",
      "HTML file generated: 20240922_155631.html\n"
     ]
    }
   ],
   "source": [
    "%run ftcfrc_dash_app_realtime.py"
   ]
  },
  {
   "cell_type": "code",
   "execution_count": null,
   "id": "30a96f2a-824a-4d4d-9dd1-f670a2607c2f",
   "metadata": {},
   "outputs": [],
   "source": []
  }
 ],
 "metadata": {
  "kernelspec": {
   "display_name": "Python 3 (ipykernel)",
   "language": "python",
   "name": "python3"
  },
  "language_info": {
   "codemirror_mode": {
    "name": "ipython",
    "version": 3
   },
   "file_extension": ".py",
   "mimetype": "text/x-python",
   "name": "python",
   "nbconvert_exporter": "python",
   "pygments_lexer": "ipython3",
   "version": "3.11.9"
  }
 },
 "nbformat": 4,
 "nbformat_minor": 5
}
